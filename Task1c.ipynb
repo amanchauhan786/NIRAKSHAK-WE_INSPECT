{
  "nbformat": 4,
  "nbformat_minor": 0,
  "metadata": {
    "colab": {
      "provenance": [],
      "authorship_tag": "ABX9TyMSe4EZygsawKc33vPrEqyg",
      "include_colab_link": true
    },
    "kernelspec": {
      "name": "python3",
      "display_name": "Python 3"
    },
    "language_info": {
      "name": "python"
    }
  },
  "cells": [
    {
      "cell_type": "markdown",
      "metadata": {
        "id": "view-in-github",
        "colab_type": "text"
      },
      "source": [
        "<a href=\"https://colab.research.google.com/github/amanchauhan786/NIRAKSHAK-WE_INSPECT/blob/main/Task1c.ipynb\" target=\"_parent\"><img src=\"https://colab.research.google.com/assets/colab-badge.svg\" alt=\"Open In Colab\"/></a>"
      ]
    },
    {
      "cell_type": "code",
      "execution_count": null,
      "metadata": {
        "id": "FIPQF69_Zx2d"
      },
      "outputs": [],
      "source": [
        "# Image Processing for Creating a 2D Map 🗺️"
      ]
    },
    {
      "cell_type": "code",
      "source": [
        "# Installations 📥\n",
        "# Before proceeding further, you need to install the some packages. To do that, follow these commands:\n",
        "\n",
        "# Install openCV - This package provides various tools and algorithms for image and video processing, object detection, feature extraction, and more.\n",
        "\n",
        "\n",
        "# pip3 install opencv-contrib-python\n",
        "# Install imutils - This package make basic image processing functions such as translation, rotation, resizing, skeletonization, displaying Matplotlib images, sorting contours, detecting edges, and much more easier with OpenCV and Python.\n",
        "\n",
        "\n",
        "# pip3 install imutils\n",
        "# Install NumPy - This package is used for working with arrays. It has functions for working in domain of linear algebra, fourier transform, and matrices.\n",
        "\n",
        "\n",
        "# pip3 install numpy"
      ],
      "metadata": {
        "id": "wVmzzap2aKbz"
      },
      "execution_count": null,
      "outputs": []
    },
    {
      "cell_type": "code",
      "source": [
        "# Apply Perspective Transform\n",
        "\n",
        "# Load the given image task1c_image.jpg into your image processing environment.\n",
        "\n",
        "# Use an Aruco detection algorithm to locate and identify the four Aruco markers in the image. These corners will serve as the reference points for the perspective transform.\n",
        "\n",
        "# Define a set of four destination points that correspond to the desired output perspective. These points should form a rectangular or square shape in the transformed image. Ensure that the order of the destination points matches the order of the Aruco marker points.\n",
        "\n",
        "# Use the identified Aruco marker points and the defined destination points to calculate the perspective transformation matrix. Apply the perspective transformation to the original image, producing a new image with the desired perspective.\n",
        "\n",
        "# Find Obstacles\n",
        "\n",
        "# Use transformed image, and then find the obstacles in the given image using openCV algorithms (understand the goal of this task and refer to learning resources to find out right algorithm for this problem).\n",
        "# At the end you need to generate a .txt file which should contain\n",
        "\n",
        "# List of Aruco's detected\n",
        "# No of Obstacles\n",
        "# Total Area covered by obstacles"
      ],
      "metadata": {
        "id": "b3e9fTl4dC6O"
      },
      "execution_count": null,
      "outputs": []
    },
    {
      "cell_type": "code",
      "source": [
        "# Navigate to your workspace.\n",
        "\n",
        "\n",
        "# cd pico_ws/src/swift_pico/scripts/\n",
        "# Open Python file map.py or CPP file map.cpp as per your choice and complete the script to achieve the given task.\n",
        "\n",
        "# Add an argument parser in the script to accept the path of image to be used for detection. The argument should be named as --image . Refer this resources to understand: How to add arguments in python and How to add arguments in CPP should be as follows.\n",
        "\n",
        "# For Python\n",
        "\n",
        "\n",
        "# python3 map.py --image task1c_image.jpg\n",
        "# For CPP\n",
        "\n",
        "\n",
        "# g++ -o map map.cpp $(pkg-config --cflags --libs opencv4)\n",
        "# ./map --image task1c_image.jpg\n",
        "# NOTE : DO NOT hard code the name of the image to be processed, the image will be passed using the argument parser as shown above, the evaluation will be done by passing different test images when you submit on the portal.\n",
        "\n",
        "# The script should generate an output image as shown in the example below."
      ],
      "metadata": {
        "id": "kQpyFgjadNB7"
      },
      "execution_count": null,
      "outputs": []
    },
    {
      "cell_type": "markdown",
      "source": [],
      "metadata": {
        "id": "IQEpEAuJdTpS"
      }
    },
    {
      "cell_type": "code",
      "source": [
        "!pip3 install opencv-contrib-python\n"
      ],
      "metadata": {
        "colab": {
          "base_uri": "https://localhost:8080/"
        },
        "id": "elLwmQbGasFG",
        "outputId": "3100b51f-219b-47ff-adc4-21f1a463be84"
      },
      "execution_count": null,
      "outputs": [
        {
          "output_type": "stream",
          "name": "stdout",
          "text": [
            "Requirement already satisfied: opencv-contrib-python in /usr/local/lib/python3.10/dist-packages (4.10.0.84)\n",
            "Requirement already satisfied: numpy>=1.21.2 in /usr/local/lib/python3.10/dist-packages (from opencv-contrib-python) (1.26.4)\n"
          ]
        }
      ]
    },
    {
      "cell_type": "code",
      "source": [
        "!pip3 install imutils\n"
      ],
      "metadata": {
        "colab": {
          "base_uri": "https://localhost:8080/"
        },
        "id": "jErT3GEic0tv",
        "outputId": "1786d23b-111e-436e-c14f-e6c068560ef8"
      },
      "execution_count": null,
      "outputs": [
        {
          "output_type": "stream",
          "name": "stdout",
          "text": [
            "Requirement already satisfied: imutils in /usr/local/lib/python3.10/dist-packages (0.5.4)\n"
          ]
        }
      ]
    },
    {
      "cell_type": "code",
      "source": [
        "!pip3 install numpy\n"
      ],
      "metadata": {
        "colab": {
          "base_uri": "https://localhost:8080/"
        },
        "id": "enFsI9_jc7Nh",
        "outputId": "71600f92-b381-4019-b233-cb1a2f7e14b2"
      },
      "execution_count": null,
      "outputs": [
        {
          "output_type": "stream",
          "name": "stdout",
          "text": [
            "Requirement already satisfied: numpy in /usr/local/lib/python3.10/dist-packages (1.26.4)\n"
          ]
        }
      ]
    },
    {
      "cell_type": "code",
      "source": [
        "import cv2\n",
        "import numpy as np\n",
        "from skimage import measure\n",
        "import matplotlib.pyplot as plt\n",
        "import pandas as pd\n",
        "from google.colab.patches import cv2_imshow  # For displaying images in Colab"
      ],
      "metadata": {
        "id": "UvT-SLRVc_vT"
      },
      "execution_count": null,
      "outputs": []
    },
    {
      "cell_type": "code",
      "source": [
        "image_path = 'prj2.jpg'"
      ],
      "metadata": {
        "id": "avHJiPeEImnX"
      },
      "execution_count": null,
      "outputs": []
    },
    {
      "cell_type": "code",
      "source": [
        "# Load the image\n",
        "image = cv2.imread(image_path)\n",
        "if image is None:\n",
        "    print(\"Could not open or find the image.\")\n",
        "    exit()"
      ],
      "metadata": {
        "id": "zE0SZEKVIu9F"
      },
      "execution_count": null,
      "outputs": []
    },
    {
      "cell_type": "code",
      "source": [
        "# Load Aruco dictionary and detector parameters\n",
        "aruco_dict = cv2.aruco.getPredefinedDictionary(cv2.aruco.DICT_4X4_50)\n",
        "aruco_params = cv2.aruco.DetectorParameters()"
      ],
      "metadata": {
        "id": "Ns-U8oN8KMD3"
      },
      "execution_count": null,
      "outputs": []
    },
    {
      "cell_type": "code",
      "source": [
        "# parser = argparse.ArgumentParser(description=\"Apply Perspective Transform and Find Obstacles\")\n",
        "# # Removed the positional argument 'prj2.jpg' and its associated parameters\n",
        "# args = parser.parse_args()"
      ],
      "metadata": {
        "id": "mg2yQ8QsK5Fq"
      },
      "execution_count": null,
      "outputs": []
    },
    {
      "cell_type": "code",
      "source": [
        "!pip install opencv-contrib-python"
      ],
      "metadata": {
        "colab": {
          "base_uri": "https://localhost:8080/"
        },
        "id": "q-QOQrgYJO-I",
        "outputId": "f955a34b-82bc-4c21-8542-8657c935cfe9"
      },
      "execution_count": null,
      "outputs": [
        {
          "output_type": "stream",
          "name": "stdout",
          "text": [
            "Requirement already satisfied: opencv-contrib-python in /usr/local/lib/python3.10/dist-packages (4.10.0.84)\n",
            "Requirement already satisfied: numpy>=1.21.2 in /usr/local/lib/python3.10/dist-packages (from opencv-contrib-python) (1.26.4)\n"
          ]
        }
      ]
    },
    {
      "cell_type": "code",
      "source": [
        "corners, ids, _ = cv2.aruco.detectMarkers(image, aruco_dict, parameters=aruco_params)"
      ],
      "metadata": {
        "id": "s4rRmFsCI56m"
      },
      "execution_count": null,
      "outputs": []
    },
    {
      "cell_type": "code",
      "source": [
        "if ids is not None and len(ids) == 4:\n",
        "    print(f\"Detected Aruco markers: {ids.flatten()}\")"
      ],
      "metadata": {
        "id": "38iu2cXSJd4q"
      },
      "execution_count": null,
      "outputs": []
    },
    {
      "cell_type": "code",
      "source": [
        "# Sort the detected corners to form the rectangle for perspective transform\n",
        "aruco_pts = np.array([corner[0] for corner in corners], dtype=\"float32\")\n"
      ],
      "metadata": {
        "id": "jpAGo7aRLzTu"
      },
      "execution_count": null,
      "outputs": []
    },
    {
      "cell_type": "code",
      "source": [
        "# Sort the detected corners to form the rectangle for perspective transform\n",
        "aruco_pts = np.array([corner[0] for corner in corners], dtype=\"float32\")\n",
        "\n",
        "if len(aruco_pts) > 0: # Check if aruco_pts is not empty\n",
        "    # Sort Aruco points by their sum of coordinates (top-left, top-right, bottom-right, bottom-left)\n",
        "    s = aruco_pts.sum(axis=1)\n",
        "    rect = np.zeros((4, 2), dtype=\"float32\")\n",
        "    rect[0] = aruco_pts[np.argmin(s)]\n",
        "    rect[2] = aruco_pts[np.argmax(s)]\n",
        "else:\n",
        "    print(\"No Aruco markers detected\")"
      ],
      "metadata": {
        "colab": {
          "base_uri": "https://localhost:8080/"
        },
        "id": "o78EwVXeL7hg",
        "outputId": "4a20503b-bd1d-4038-db37-a7a2535ef3e5"
      },
      "execution_count": null,
      "outputs": [
        {
          "output_type": "stream",
          "name": "stdout",
          "text": [
            "No Aruco markers detected\n"
          ]
        }
      ]
    },
    {
      "cell_type": "code",
      "source": [
        "if ids is not None and len(ids) == 4:\n",
        "    print(f\"Detected Aruco markers: {ids.flatten()}\")"
      ],
      "metadata": {
        "id": "ACdYJyE2Q_YX"
      },
      "execution_count": null,
      "outputs": []
    },
    {
      "cell_type": "code",
      "source": [
        "pip install opencv-contrib-python\n"
      ],
      "metadata": {
        "colab": {
          "base_uri": "https://localhost:8080/"
        },
        "id": "o8rzH9Shrpok",
        "outputId": "cde076e3-f658-476c-a865-629b8d32b074"
      },
      "execution_count": null,
      "outputs": [
        {
          "output_type": "stream",
          "name": "stdout",
          "text": [
            "Requirement already satisfied: opencv-contrib-python in /usr/local/lib/python3.10/dist-packages (4.10.0.84)\n",
            "Requirement already satisfied: numpy>=1.21.2 in /usr/local/lib/python3.10/dist-packages (from opencv-contrib-python) (1.26.4)\n"
          ]
        }
      ]
    },
    {
      "cell_type": "code",
      "source": [
        "import cv2\n",
        "print(cv2.__version__)\n",
        "\n",
        "# Check if aruco module is available\n",
        "if not hasattr(cv2, 'aruco'):\n",
        "    print(\"Aruco module is not available.\")\n",
        "else:\n",
        "    print(\"Aruco module is available.\")\n"
      ],
      "metadata": {
        "colab": {
          "base_uri": "https://localhost:8080/"
        },
        "id": "_P9PTyhKrsud",
        "outputId": "dbe67a4f-8079-435c-d90e-f018b0fdb443"
      },
      "execution_count": null,
      "outputs": [
        {
          "output_type": "stream",
          "name": "stdout",
          "text": [
            "4.10.0\n",
            "Aruco module is available.\n"
          ]
        }
      ]
    },
    {
      "cell_type": "markdown",
      "source": [],
      "metadata": {
        "id": "v3n7ldkQrpAN"
      }
    },
    {
      "cell_type": "code",
      "source": [
        "import cv2\n",
        "import numpy as np\n",
        "from skimage import measure\n",
        "import matplotlib.pyplot as plt\n",
        "import pandas as pd\n",
        "\n",
        "# If you are in Google Colab, use cv2_imshow instead of cv2.imshow\n",
        "from google.colab.patches import cv2_imshow  # For displaying images in Colab\n",
        "\n",
        "# Instead of argparse, we'll manually define the image path here\n",
        "image_path = 'prj2.jpg'  # Replace with your actual image path\n",
        "\n",
        "# Load the image\n",
        "image = cv2.imread(image_path)\n",
        "if image is None:\n",
        "    print(\"Could not open or find the image.\")\n",
        "    exit()\n",
        "\n",
        "# Load Aruco dictionary and detector parameters (Ensure correct OpenCV contrib installation)\n",
        "aruco_dict = cv2.aruco.getPredefinedDictionary(cv2.aruco.DICT_4X4_50)\n",
        "aruco_params = cv2.aruco.DetectorParameters()\n",
        "\n",
        "# Detect Aruco markers\n",
        "corners, ids, rejected = cv2.aruco.detectMarkers(image, aruco_dict, parameters=aruco_params)\n",
        "\n",
        "# Validate if Aruco markers were detected\n",
        "if ids is not None and len(ids) == 4:\n",
        "    print(f\"Detected Aruco markers: {ids.flatten()}\")\n",
        "\n",
        "    # Sort the detected corners to form the rectangle for perspective transform\n",
        "    aruco_pts = np.array([corner[0] for corner in corners], dtype=\"float32\")\n",
        "\n",
        "    # Sort Aruco points by their sum of coordinates (top-left, top-right, bottom-right, bottom-left)\n",
        "    s = aruco_pts.sum(axis=1)\n",
        "    rect = np.zeros((4, 2), dtype=\"float32\")\n",
        "    rect[0] = aruco_pts[np.argmin(s)]\n",
        "    rect[2] = aruco_pts[np.argmax(s)]\n",
        "\n",
        "    # Sort by difference between x and y (top-right, bottom-left)\n",
        "    diff = np.diff(aruco_pts, axis=1)\n",
        "    rect[1] = aruco_pts[np.argmin(diff)]\n",
        "    rect[3] = aruco_pts[np.argmax(diff)]\n",
        "\n",
        "    # Destination points for the perspective transform\n",
        "    dst = np.array([[0, 0], [500, 0], [500, 500], [0, 500]], dtype=\"float32\")\n",
        "\n",
        "    # Compute the perspective transform matrix and apply it\n",
        "    M = cv2.getPerspectiveTransform(rect, dst)\n",
        "    transformed = cv2.warpPerspective(image, M, (500, 500))\n",
        "\n",
        "    # Display the transformed image\n",
        "    cv2_imshow(transformed)\n",
        "\n",
        "    # Convert transformed image to grayscale and apply a blur to prepare for obstacle detection\n",
        "    gray = cv2.cvtColor(transformed, cv2.COLOR_BGR2GRAY)\n",
        "    blurred = cv2.GaussianBlur(gray, (5, 5), 0)\n",
        "\n",
        "    # Threshold the image to find obstacles\n",
        "    _, thresh = cv2.threshold(blurred, 100, 255, cv2.THRESH_BINARY_INV)\n",
        "\n",
        "    # Label connected components (obstacles)\n",
        "    labels = measure.label(thresh, connectivity=2, background=0)\n",
        "    props = measure.regionprops(labels)\n",
        "\n",
        "    # Count the number of obstacles and calculate the total area covered\n",
        "    num_obstacles = len(props)\n",
        "    total_area = sum([prop.area for prop in props])\n",
        "\n",
        "    # Draw bounding boxes around obstacles\n",
        "    for prop in props:\n",
        "        min_row, min_col, max_row, max_col = prop.bbox\n",
        "        cv2.rectangle(transformed, (min_col, min_row), (max_col, max_row), (0, 255, 0), 2)\n",
        "\n",
        "    # Display the transformed image with bounding boxes\n",
        "    cv2_imshow(transformed)\n",
        "\n",
        "    # Write the Aruco markers and obstacle details to a text file\n",
        "    with open(\"obstacle_details.txt\", \"w\") as file:\n",
        "        file.write(f\"List of Aruco's detected: {ids.flatten().tolist()}\\n\")\n",
        "        file.write(f\"Number of Obstacles: {num_obstacles}\\n\")\n",
        "        file.write(f\"Total Area covered by obstacles: {total_area}\\n\")\n",
        "\n",
        "    print(\"Transformation and obstacle detection completed. Results saved to 'transformed_output.jpg' and 'obstacle_details.txt'.\")\n",
        "else:\n",
        "    print(\"Error: Could not detect exactly 4 Aruco markers.\")\n"
      ],
      "metadata": {
        "colab": {
          "base_uri": "https://localhost:8080/"
        },
        "id": "-iO-Z1wWRMQj",
        "outputId": "36a972cc-a8f1-419b-8b02-036c19f9ca6e"
      },
      "execution_count": null,
      "outputs": [
        {
          "output_type": "stream",
          "name": "stdout",
          "text": [
            "Error: Could not detect exactly 4 Aruco markers.\n"
          ]
        }
      ]
    },
    {
      "cell_type": "code",
      "source": [
        "import cv2\n",
        "from google.colab.patches import cv2_imshow  # Use cv2.imshow() if not in Google Colab\n",
        "\n",
        "# Load the image\n",
        "image_path = '/content/prj2.jpg'  # Replace with your actual image path\n",
        "image = cv2.imread(image_path)\n",
        "\n",
        "if image is None:\n",
        "    print(\"Could not open or find the image.\")\n",
        "    exit()\n",
        "\n",
        "# Load the predefined Aruco dictionary\n",
        "aruco_dict = cv2.aruco.getPredefinedDictionary(cv2.aruco.DICT_4X4_50)\n",
        "aruco_params = cv2.aruco.DetectorParameters()\n",
        "\n",
        "# Detect the Aruco markers in the image\n",
        "corners, ids, rejected = cv2.aruco.detectMarkers(image, aruco_dict, parameters=aruco_params)\n",
        "\n",
        "# Check if any markers were detected\n",
        "if ids is not None:\n",
        "    print(f\"Detected Aruco markers: {ids.flatten()}\")\n",
        "\n",
        "    # Draw detected markers on the image\n",
        "    cv2.aruco.drawDetectedMarkers(image, corners, ids)\n",
        "\n",
        "    # Display the image with markers\n",
        "    cv2_imshow(image)  # Use cv2.imshow(\"Image\", image) if not using Colab\n",
        "else:\n",
        "    print(\"No Aruco markers detected.\")\n",
        "\n"
      ],
      "metadata": {
        "colab": {
          "base_uri": "https://localhost:8080/"
        },
        "id": "YTMeXdJ1tEm_",
        "outputId": "11af2d50-6fd1-4525-a37b-2bb5884d9497"
      },
      "execution_count": null,
      "outputs": [
        {
          "output_type": "stream",
          "name": "stdout",
          "text": [
            "No Aruco markers detected.\n"
          ]
        }
      ]
    },
    {
      "cell_type": "code",
      "source": [
        "import cv2\n",
        "import numpy as np\n",
        "import matplotlib.pyplot as plt\n",
        "\n",
        "# Define the image path\n",
        "image_path = 'aruco_marker.png'  # Replace with your actual image path\n",
        "\n",
        "# Load the image\n",
        "image = cv2.imread(image_path)\n",
        "if image is None:\n",
        "    print(\"Could not open or find the image.\")\n",
        "    exit()\n",
        "\n",
        "# Load a different ArUco dictionary (5x5 markers with 50 unique markers)\n",
        "aruco_dict = cv2.aruco.getPredefinedDictionary(cv2.aruco.DICT_5X5_50)\n",
        "aruco_params = cv2.aruco.DetectorParameters_create()\n",
        "\n",
        "# Detect ArUco markers\n",
        "corners, ids, rejected = cv2.aruco.detectMarkers(image, aruco_dict, parameters=aruco_params)\n",
        "\n",
        "# Validate if ArUco markers were detected\n",
        "if ids is not None:\n",
        "    print(f\"Detected ArUco markers: {ids.flatten()}\")\n",
        "\n",
        "    # Draw detected markers on the image\n",
        "    image_with_markers = cv2.aruco.drawDetectedMarkers(image.copy(), corners, ids)\n",
        "\n",
        "    # Display the result using matplotlib\n",
        "    plt.imshow(cv2.cvtColor(image_with_markers, cv2.COLOR_BGR2RGB))\n",
        "    plt.axis('off')  # Hide axes\n",
        "    plt.title('Detected ArUco Markers')\n",
        "    plt.show()\n",
        "else:\n",
        "    print(\"No ArUco markers detected.\")\n"
      ],
      "metadata": {
        "colab": {
          "base_uri": "https://localhost:8080/",
          "height": 211
        },
        "id": "MtYp4-QJtwZ6",
        "outputId": "ccf03143-e87e-4aa1-ddf6-ee2b54eee3fe"
      },
      "execution_count": null,
      "outputs": [
        {
          "output_type": "error",
          "ename": "AttributeError",
          "evalue": "module 'cv2.aruco' has no attribute 'DetectorParameters_create'",
          "traceback": [
            "\u001b[0;31m---------------------------------------------------------------------------\u001b[0m",
            "\u001b[0;31mAttributeError\u001b[0m                            Traceback (most recent call last)",
            "\u001b[0;32m<ipython-input-2-c547792b0dbd>\u001b[0m in \u001b[0;36m<cell line: 16>\u001b[0;34m()\u001b[0m\n\u001b[1;32m     14\u001b[0m \u001b[0;31m# Load a different ArUco dictionary (5x5 markers with 50 unique markers)\u001b[0m\u001b[0;34m\u001b[0m\u001b[0;34m\u001b[0m\u001b[0m\n\u001b[1;32m     15\u001b[0m \u001b[0maruco_dict\u001b[0m \u001b[0;34m=\u001b[0m \u001b[0mcv2\u001b[0m\u001b[0;34m.\u001b[0m\u001b[0maruco\u001b[0m\u001b[0;34m.\u001b[0m\u001b[0mgetPredefinedDictionary\u001b[0m\u001b[0;34m(\u001b[0m\u001b[0mcv2\u001b[0m\u001b[0;34m.\u001b[0m\u001b[0maruco\u001b[0m\u001b[0;34m.\u001b[0m\u001b[0mDICT_5X5_50\u001b[0m\u001b[0;34m)\u001b[0m\u001b[0;34m\u001b[0m\u001b[0;34m\u001b[0m\u001b[0m\n\u001b[0;32m---> 16\u001b[0;31m \u001b[0maruco_params\u001b[0m \u001b[0;34m=\u001b[0m \u001b[0mcv2\u001b[0m\u001b[0;34m.\u001b[0m\u001b[0maruco\u001b[0m\u001b[0;34m.\u001b[0m\u001b[0mDetectorParameters_create\u001b[0m\u001b[0;34m(\u001b[0m\u001b[0;34m)\u001b[0m\u001b[0;34m\u001b[0m\u001b[0;34m\u001b[0m\u001b[0m\n\u001b[0m\u001b[1;32m     17\u001b[0m \u001b[0;34m\u001b[0m\u001b[0m\n\u001b[1;32m     18\u001b[0m \u001b[0;31m# Detect ArUco markers\u001b[0m\u001b[0;34m\u001b[0m\u001b[0;34m\u001b[0m\u001b[0m\n",
            "\u001b[0;31mAttributeError\u001b[0m: module 'cv2.aruco' has no attribute 'DetectorParameters_create'"
          ]
        }
      ]
    },
    {
      "cell_type": "code",
      "source": [
        "import cv2\n",
        "import numpy as np\n",
        "import matplotlib.pyplot as plt\n",
        "\n",
        "# Define the image path\n",
        "image_path = 'aruco_marker.png'  # Replace with your actual image path\n",
        "\n",
        "# Load the image\n",
        "image = cv2.imread(image_path)\n",
        "if image is None:\n",
        "    print(\"Could not open or find the image.\")\n",
        "    exit()\n",
        "\n",
        "# Load a different ArUco dictionary (5x5 markers with 50 unique markers)\n",
        "aruco_dict = cv2.aruco.getPredefinedDictionary(cv2.aruco.DICT_5X5_50)\n",
        "\n",
        "# Create parameters for marker detection\n",
        "aruco_params = cv2.aruco.DetectorParameters()\n",
        "\n",
        "# Detect ArUco markers\n",
        "corners, ids, rejected = cv2.aruco.detectMarkers(image, aruco_dict, parameters=aruco_params)\n",
        "\n",
        "# Validate if ArUco markers were detected\n",
        "if ids is not None:\n",
        "    print(f\"Detected ArUco markers: {ids.flatten()}\")\n",
        "\n",
        "    # Draw detected markers on the image\n",
        "    image_with_markers = cv2.aruco.drawDetectedMarkers(image.copy(), corners, ids)\n",
        "\n",
        "    # Display the result using matplotlib\n",
        "    plt.imshow(cv2.cvtColor(image_with_markers, cv2.COLOR_BGR2RGB))\n",
        "    plt.axis('off')  # Hide axes\n",
        "    plt.title('Detected ArUco Markers')\n",
        "    plt.show()\n",
        "else:\n",
        "    print(\"No ArUco markers detected.\")\n"
      ],
      "metadata": {
        "colab": {
          "base_uri": "https://localhost:8080/"
        },
        "id": "uRWignQMt4UB",
        "outputId": "ec9852f3-6911-4782-9f9c-94d66833e078"
      },
      "execution_count": null,
      "outputs": [
        {
          "output_type": "stream",
          "name": "stdout",
          "text": [
            "No ArUco markers detected.\n"
          ]
        }
      ]
    },
    {
      "cell_type": "code",
      "source": [
        "# prompt: dont take the aruco marker directky flatten the image and find obstacle and frame with light green box and create a txt file with all previous details\n",
        "\n",
        "import cv2\n",
        "import numpy as np\n",
        "from skimage import measure\n",
        "import matplotlib.pyplot as plt\n",
        "import pandas as pd\n",
        "from google.colab.patches import cv2_imshow  # For displaying images in Colab\n",
        "\n",
        "# Load the image\n",
        "image_path = 'prj2.jpg'  # Replace with your actual image path\n",
        "image = cv2.imread(image_path)\n",
        "\n",
        "if image is None:\n",
        "    print(\"Could not open or find the image.\")\n",
        "    exit()\n",
        "\n",
        "# Flatten the image (assuming you want to remove perspective distortion)\n",
        "height, width = image.shape[:2]\n",
        "flattened_image = cv2.resize(image, (width, height))  # Simple resize to flatten\n",
        "\n",
        "# Convert flattened image to grayscale and apply a blur to prepare for obstacle detection\n",
        "gray = cv2.cvtColor(flattened_image, cv2.COLOR_BGR2GRAY)\n",
        "blurred = cv2.GaussianBlur(gray, (5, 5), 0)\n",
        "\n",
        "# Threshold the image to find obstacles\n",
        "_, thresh = cv2.threshold(blurred, 100, 255, cv2.THRESH_BINARY_INV)\n",
        "\n",
        "# Label connected components (obstacles)\n",
        "labels = measure.label(thresh, connectivity=2, background=0)\n",
        "props = measure.regionprops(labels)\n",
        "\n",
        "# Count the number of obstacles and calculate the total area covered\n",
        "num_obstacles = len(props)\n",
        "total_area = sum([prop.area for prop in props])\n",
        "\n",
        "# Draw bounding boxes around obstacles in light green\n",
        "for prop in props:\n",
        "    min_row, min_col, max_row, max_col = prop.bbox\n",
        "    cv2.rectangle(flattened_image, (min_col, min_row), (max_col, max_row), (144, 238, 144), 2)  # Light green color\n",
        "\n",
        "# Display the flattened image with bounding boxes\n",
        "cv2_imshow(flattened_image)\n",
        "\n",
        "# Write the obstacle details to a text file\n",
        "with open(\"obstacle_details.txt\", \"w\") as file:\n",
        "    file.write(f\"Number of Obstacles: {num_obstacles}\\n\")\n",
        "    file.write(f\"Total Area covered by obstacles: {total_area}\\n\")\n",
        "\n",
        "print(\"Obstacle detection completed. Results saved to 'obstacle_details.txt'.\")\n"
      ],
      "metadata": {
        "colab": {
          "base_uri": "https://localhost:8080/",
          "height": 685
        },
        "id": "QFGrFeN87P7H",
        "outputId": "7640ba48-435f-4f0a-819a-7c2d254265d7"
      },
      "execution_count": null,
      "outputs": [
        {
          "output_type": "display_data",
          "data": {
            "text/plain": [
              "<PIL.Image.Image image mode=RGB size=678x677>"
            ],
            "image/png": "[encoded data removed]",
            "image/jpeg": "[encoded data removed]"
          },
          "metadata": {}
        }
      ]
    },
    {
      "cell_type": "code",
      "source": [
        "import cv2\n",
        "import numpy as np\n",
        "import pandas as pd\n",
        "import matplotlib.pyplot as plt\n",
        "\n",
        "# Define the image path\n",
        "image_path = 'prj2.jpg'  # Replace with your actual image path\n",
        "\n",
        "# Load the image\n",
        "image = cv2.imread(image_path)\n",
        "if image is None:\n",
        "    print(\"Could not open or find the image.\")\n",
        "    exit()\n",
        "\n",
        "# Convert to grayscale\n",
        "gray = cv2.cvtColor(image, cv2.COLOR_BGR2GRAY)\n",
        "\n",
        "# Apply Gaussian blur\n",
        "blurred = cv2.GaussianBlur(gray, (5, 5), 0)\n",
        "\n",
        "# Apply binary thresholding\n",
        "_, thresh = cv2.threshold(blurred, 100, 255, cv2.THRESH_BINARY_INV)\n",
        "\n",
        "# Find contours\n",
        "contours, _ = cv2.findContours(thresh, cv2.RETR_EXTERNAL, cv2.CHAIN_APPROX_SIMPLE)\n",
        "\n",
        "# Prepare a list to store obstacle details\n",
        "obstacle_data = []\n",
        "\n",
        "# Filter and draw bounding boxes\n",
        "for contour in contours:\n",
        "    area = cv2.contourArea(contour)\n",
        "    if area > 100:  # Filter out small areas\n",
        "        # Get bounding box\n",
        "        x, y, w, h = cv2.boundingRect(contour)\n",
        "        obstacle_data.append({'x': x, 'y': y, 'width': w, 'height': h, 'area': area})\n",
        "\n",
        "        # Draw light green bounding box\n",
        "        cv2.rectangle(image, (x, y), (x + w, y + h), (144, 238, 144), 2)  # Light green color in BGR\n",
        "\n",
        "# Display the image with detected obstacles\n",
        "plt.imshow(cv2.cvtColor(image, cv2.COLOR_BGR2RGB))\n",
        "plt.axis('off')  # Hide axes\n",
        "plt.title('Detected Obstacles')\n",
        "plt.show()\n",
        "\n",
        "# Save the obstacle details to a CSV file\n",
        "df = pd.DataFrame(obstacle_data)\n",
        "df.to_csv('obstacle_details.csv', index=False)\n",
        "\n",
        "print(\"Obstacle detection completed. Results saved to 'obstacle_details.csv'.\")\n"
      ],
      "metadata": {
        "colab": {
          "base_uri": "https://localhost:8080/",
          "height": 445
        },
        "id": "4G-mwRya9OQG",
        "outputId": "973569b5-5f8c-44d6-862c-68d89dbf3ad8"
      },
      "execution_count": null,
      "outputs": [
        {
          "output_type": "display_data",
          "data": {
            "text/plain": [
              "<Figure size 640x480 with 1 Axes>"
            ],
            "image/png": "[encoded data removed]"
          },
          "metadata": {}
        },
        {
          "output_type": "stream",
          "name": "stdout",
          "text": [
            "Obstacle detection completed. Results saved to 'obstacle_details.csv'.\n"
          ]
        }
      ]
    },
    {
      "cell_type": "code",
      "source": [
        "import cv2\n",
        "import numpy as np\n",
        "from skimage import measure\n",
        "import matplotlib.pyplot as plt\n",
        "\n",
        "# Load the image\n",
        "image_path = 'prj2.jpg'  # Replace with your actual image path\n",
        "image = cv2.imread(image_path)\n",
        "if image is None:\n",
        "    print(\"Could not open or find the image.\")\n",
        "    exit()\n",
        "\n",
        "# Load ArUco dictionary and detector parameters\n",
        "aruco_dict = cv2.aruco.getPredefinedDictionary(cv2.aruco.DICT_4X4_50)\n",
        "aruco_params = cv2.aruco.DetectorParameters()\n",
        "\n",
        "# Detect ArUco markers\n",
        "corners, ids, rejected = cv2.aruco.detectMarkers(image, aruco_dict, parameters=aruco_params)\n",
        "\n",
        "# Validate if ArUco markers were detected\n",
        "if ids is not None and len(ids) >= 4:  # Check if at least 4 markers were detected\n",
        "    print(f\"Detected ArUco markers: {ids.flatten()}\")\n",
        "\n",
        "    # Sort the detected corners to form the rectangle for perspective transform\n",
        "    aruco_pts = np.array([corner[0] for corner in corners], dtype=\"float32\")\n",
        "\n",
        "    # Sort ArUco points by their sum of coordinates (top-left, top-right, bottom-right, bottom-left)\n",
        "    s = aruco_pts.sum(axis=1)\n",
        "    rect = np.zeros((4, 2), dtype=\"float32\")\n",
        "    rect[0] = aruco_pts[np.argmin(s)]  # Top-left\n",
        "    rect[2] = aruco_pts[np.argmax(s)]  # Bottom-right\n",
        "\n",
        "    # Sort by difference between x and y (top-right, bottom-left)\n",
        "    diff = np.diff(aruco_pts, axis=1)\n",
        "    rect[1] = aruco_pts[np.argmin(diff)]  # Top-right\n",
        "    rect[3] = aruco_pts[np.argmax(diff)]  # Bottom-left\n",
        "\n",
        "    # Destination points for the perspective transform (flattening)\n",
        "    dst = np.array([[0, 0], [500, 0], [500, 500], [0, 500]], dtype=\"float32\")\n",
        "\n",
        "    # Compute the perspective transform matrix and apply it\n",
        "    M = cv2.getPerspectiveTransform(rect, dst)\n",
        "    flattened_image = cv2.warpPerspective(image, M, (500, 500))\n",
        "\n",
        "    # Display the flattened image\n",
        "    plt.imshow(cv2.cvtColor(flattened_image, cv2.COLOR_BGR2RGB))\n",
        "    plt.axis('off')  # Hide axes\n",
        "    plt.title('Flattened Image')\n",
        "    plt.show()\n",
        "\n",
        "    # Save the flattened image\n",
        "    cv2.imwrite('flattened_image.jpg', flattened_image)\n",
        "    print(\"Flattened image saved as 'flattened_image.jpg'.\")\n",
        "else:\n",
        "    print(\"Error: Could not detect at least 4 ArUco markers.\")\n"
      ],
      "metadata": {
        "colab": {
          "base_uri": "https://localhost:8080/"
        },
        "id": "xfQxcSj79Zpw",
        "outputId": "66049986-ef79-46fd-df0a-ecb7aa973c16"
      },
      "execution_count": null,
      "outputs": [
        {
          "output_type": "stream",
          "name": "stdout",
          "text": [
            "Error: Could not detect at least 4 ArUco markers.\n"
          ]
        }
      ]
    },
    {
      "cell_type": "code",
      "source": [
        "!pip uninstall opencv-python"
      ],
      "metadata": {
        "colab": {
          "base_uri": "https://localhost:8080/"
        },
        "id": "p9phJpUr9zcB",
        "outputId": "d9d788c0-0f55-4b79-a869-25f0c8634958"
      },
      "execution_count": null,
      "outputs": [
        {
          "output_type": "stream",
          "name": "stdout",
          "text": [
            "Found existing installation: opencv-python 4.10.0.84\n",
            "Uninstalling opencv-python-4.10.0.84:\n",
            "  Would remove:\n",
            "    /usr/local/lib/python3.10/dist-packages/cv2/*\n",
            "    /usr/local/lib/python3.10/dist-packages/opencv_python-4.10.0.84.dist-info/*\n",
            "    /usr/local/lib/python3.10/dist-packages/opencv_python.libs/libQt5Core-e6d3f451.so.5.15.13\n",
            "    /usr/local/lib/python3.10/dist-packages/opencv_python.libs/libQt5Gui-5dea4132.so.5.15.13\n",
            "    /usr/local/lib/python3.10/dist-packages/opencv_python.libs/libQt5Test-d435aae7.so.5.15.13\n",
            "    /usr/local/lib/python3.10/dist-packages/opencv_python.libs/libQt5Widgets-e392eaf8.so.5.15.13\n",
            "    /usr/local/lib/python3.10/dist-packages/opencv_python.libs/libQt5XcbQpa-3bf8a55a.so.5.15.13\n",
            "    /usr/local/lib/python3.10/dist-packages/opencv_python.libs/libX11-xcb-0e257303.so.1.0.0\n",
            "    /usr/local/lib/python3.10/dist-packages/opencv_python.libs/libXau-00ec42fe.so.6.0.0\n",
            "    /usr/local/lib/python3.10/dist-packages/opencv_python.libs/libavcodec-9aae324f.so.59.37.100\n",
            "    /usr/local/lib/python3.10/dist-packages/opencv_python.libs/libavformat-3ff1be5b.so.59.27.100\n",
            "    /usr/local/lib/python3.10/dist-packages/opencv_python.libs/libavutil-a0a0531e.so.57.28.100\n",
            "    /usr/local/lib/python3.10/dist-packages/opencv_python.libs/libcrypto-337dac8b.so.1.1\n",
            "    /usr/local/lib/python3.10/dist-packages/opencv_python.libs/libgfortran-91cc3cb1.so.3.0.0\n",
            "    /usr/local/lib/python3.10/dist-packages/opencv_python.libs/libopenblas-r0-f650aae0.3.3.so\n",
            "    /usr/local/lib/python3.10/dist-packages/opencv_python.libs/libpng16-1bde1c40.so.16.43.0\n",
            "    /usr/local/lib/python3.10/dist-packages/opencv_python.libs/libquadmath-96973f99.so.0.0.0\n",
            "    /usr/local/lib/python3.10/dist-packages/opencv_python.libs/libssl-28bef1ac.so.1.1\n",
            "    /usr/local/lib/python3.10/dist-packages/opencv_python.libs/libswresample-2ec4394e.so.4.7.100\n",
            "    /usr/local/lib/python3.10/dist-packages/opencv_python.libs/libswscale-2c3c8be7.so.6.7.100\n",
            "    /usr/local/lib/python3.10/dist-packages/opencv_python.libs/libvpx-c3a7933e.so.9.0.0\n",
            "    /usr/local/lib/python3.10/dist-packages/opencv_python.libs/libxcb-icccm-413c9f41.so.4.0.0\n",
            "    /usr/local/lib/python3.10/dist-packages/opencv_python.libs/libxcb-image-e82a276d.so.0.0.0\n",
            "    /usr/local/lib/python3.10/dist-packages/opencv_python.libs/libxcb-keysyms-21015570.so.1.0.0\n",
            "    /usr/local/lib/python3.10/dist-packages/opencv_python.libs/libxcb-randr-a96a5a87.so.0.1.0\n",
            "    /usr/local/lib/python3.10/dist-packages/opencv_python.libs/libxcb-render-637b984a.so.0.0.0\n",
            "    /usr/local/lib/python3.10/dist-packages/opencv_python.libs/libxcb-render-util-43ce00f5.so.0.0.0\n",
            "    /usr/local/lib/python3.10/dist-packages/opencv_python.libs/libxcb-shape-25c2b258.so.0.0.0\n",
            "    /usr/local/lib/python3.10/dist-packages/opencv_python.libs/libxcb-shm-7a199f70.so.0.0.0\n",
            "    /usr/local/lib/python3.10/dist-packages/opencv_python.libs/libxcb-sync-89374f40.so.1.0.0\n",
            "    /usr/local/lib/python3.10/dist-packages/opencv_python.libs/libxcb-util-4d666913.so.1.0.0\n",
            "    /usr/local/lib/python3.10/dist-packages/opencv_python.libs/libxcb-xfixes-9be3ba6f.so.0.0.0\n",
            "    /usr/local/lib/python3.10/dist-packages/opencv_python.libs/libxcb-xinerama-ae147f87.so.0.0.0\n",
            "    /usr/local/lib/python3.10/dist-packages/opencv_python.libs/libxcb-xkb-9ba31ab3.so.1.0.0\n",
            "    /usr/local/lib/python3.10/dist-packages/opencv_python.libs/libxkbcommon-71ae2972.so.0.0.0\n",
            "    /usr/local/lib/python3.10/dist-packages/opencv_python.libs/libxkbcommon-x11-c65ed502.so.0.0.0\n",
            "  Would not remove (might be manually added):\n",
            "    /usr/local/lib/python3.10/dist-packages/cv2/bgsegm/__init__.pyi\n",
            "    /usr/local/lib/python3.10/dist-packages/cv2/bioinspired/__init__.pyi\n",
            "    /usr/local/lib/python3.10/dist-packages/cv2/ccm/__init__.pyi\n",
            "    /usr/local/lib/python3.10/dist-packages/cv2/colored_kinfu/__init__.pyi\n",
            "    /usr/local/lib/python3.10/dist-packages/cv2/datasets/__init__.pyi\n",
            "    /usr/local/lib/python3.10/dist-packages/cv2/dnn_superres/__init__.pyi\n",
            "    /usr/local/lib/python3.10/dist-packages/cv2/dpm/__init__.pyi\n",
            "    /usr/local/lib/python3.10/dist-packages/cv2/dynafu/__init__.pyi\n",
            "    /usr/local/lib/python3.10/dist-packages/cv2/face/__init__.pyi\n",
            "    /usr/local/lib/python3.10/dist-packages/cv2/ft/__init__.pyi\n",
            "    /usr/local/lib/python3.10/dist-packages/cv2/hfs/__init__.pyi\n",
            "    /usr/local/lib/python3.10/dist-packages/cv2/img_hash/__init__.pyi\n",
            "    /usr/local/lib/python3.10/dist-packages/cv2/intensity_transform/__init__.pyi\n",
            "    /usr/local/lib/python3.10/dist-packages/cv2/kinfu/__init__.pyi\n",
            "    /usr/local/lib/python3.10/dist-packages/cv2/kinfu/detail/__init__.pyi\n",
            "    /usr/local/lib/python3.10/dist-packages/cv2/large_kinfu/__init__.pyi\n",
            "    /usr/local/lib/python3.10/dist-packages/cv2/legacy/__init__.pyi\n",
            "    /usr/local/lib/python3.10/dist-packages/cv2/line_descriptor/__init__.pyi\n",
            "    /usr/local/lib/python3.10/dist-packages/cv2/linemod/__init__.pyi\n",
            "    /usr/local/lib/python3.10/dist-packages/cv2/mcc/__init__.pyi\n",
            "    /usr/local/lib/python3.10/dist-packages/cv2/motempl/__init__.pyi\n",
            "    /usr/local/lib/python3.10/dist-packages/cv2/multicalib/__init__.pyi\n",
            "    /usr/local/lib/python3.10/dist-packages/cv2/omnidir/__init__.pyi\n",
            "    /usr/local/lib/python3.10/dist-packages/cv2/optflow/__init__.pyi\n",
            "    /usr/local/lib/python3.10/dist-packages/cv2/phase_unwrapping/__init__.pyi\n",
            "    /usr/local/lib/python3.10/dist-packages/cv2/plot/__init__.pyi\n",
            "    /usr/local/lib/python3.10/dist-packages/cv2/ppf_match_3d/__init__.pyi\n",
            "    /usr/local/lib/python3.10/dist-packages/cv2/quality/__init__.pyi\n",
            "    /usr/local/lib/python3.10/dist-packages/cv2/rapid/__init__.pyi\n",
            "    /usr/local/lib/python3.10/dist-packages/cv2/reg/__init__.pyi\n",
            "    /usr/local/lib/python3.10/dist-packages/cv2/rgbd/__init__.pyi\n",
            "    /usr/local/lib/python3.10/dist-packages/cv2/saliency/__init__.pyi\n",
            "    /usr/local/lib/python3.10/dist-packages/cv2/signal/__init__.pyi\n",
            "    /usr/local/lib/python3.10/dist-packages/cv2/stereo/__init__.pyi\n",
            "    /usr/local/lib/python3.10/dist-packages/cv2/structured_light/__init__.pyi\n",
            "    /usr/local/lib/python3.10/dist-packages/cv2/text/__init__.pyi\n",
            "    /usr/local/lib/python3.10/dist-packages/cv2/videostab/__init__.pyi\n",
            "    /usr/local/lib/python3.10/dist-packages/cv2/wechat_qrcode/__init__.pyi\n",
            "    /usr/local/lib/python3.10/dist-packages/cv2/xfeatures2d/__init__.pyi\n",
            "    /usr/local/lib/python3.10/dist-packages/cv2/ximgproc/__init__.pyi\n",
            "    /usr/local/lib/python3.10/dist-packages/cv2/ximgproc/segmentation/__init__.pyi\n",
            "    /usr/local/lib/python3.10/dist-packages/cv2/xphoto/__init__.pyi\n",
            "Proceed (Y/n)? Y\n",
            "  Successfully uninstalled opencv-python-4.10.0.84\n"
          ]
        }
      ]
    },
    {
      "cell_type": "code",
      "source": [
        "pip install opencv-contrib-python==4.6.0.66"
      ],
      "metadata": {
        "colab": {
          "base_uri": "https://localhost:8080/"
        },
        "id": "Ld79f198-dcR",
        "outputId": "6f687ae7-e60c-4e37-bf0c-8718ce5eb35f"
      },
      "execution_count": null,
      "outputs": [
        {
          "output_type": "stream",
          "name": "stdout",
          "text": [
            "Requirement already satisfied: opencv-contrib-python==4.6.0.66 in /usr/local/lib/python3.10/dist-packages (4.6.0.66)\n",
            "Requirement already satisfied: numpy>=1.21.2 in /usr/local/lib/python3.10/dist-packages (from opencv-contrib-python==4.6.0.66) (1.26.4)\n"
          ]
        }
      ]
    },
    {
      "cell_type": "code",
      "source": [
        "import cv2\n",
        "import numpy as np\n",
        "\n",
        "# Create Charuco board\n",
        "squares_x = 5\n",
        "squares_y = 7\n",
        "square_length = 0.04  # 4 cm\n",
        "marker_length = 0.02   # 2 cm\n",
        "\n",
        "charuco_board = cv2.aruco.CharucoBoard(squares_x, squares_y, square_length, marker_length,\n",
        "                                         cv2.aruco.getPredefinedDictionary(cv2.aruco.DICT_5X5_50))\n",
        "\n",
        "# Draw the board to an image\n",
        "board_image = charuco_board.draw((600, 800))\n",
        "cv2.imshow('Charuco Board', board_image)\n",
        "cv2.waitKey(0)\n",
        "cv2.destroyAllWindows()\n"
      ],
      "metadata": {
        "id": "mHpnlB4R-ul3"
      },
      "execution_count": null,
      "outputs": []
    },
    {
      "cell_type": "code",
      "source": [
        "import cv2\n",
        "import numpy as np\n",
        "import matplotlib.pyplot as plt\n",
        "\n",
        "# Define the image path\n",
        "image_path = 'aruco_marker.png'  # Replace with your actual image path\n",
        "\n",
        "# Load the image\n",
        "image = cv2.imread(image_path)\n",
        "if image is None:\n",
        "    print(\"Could not open or find the image.\")\n",
        "    exit()\n",
        "\n",
        "# Load a different ArUco dictionary (5x5 markers with 50 unique markers)\n",
        "aruco_dict = cv2.aruco.getPredefinedDictionary(cv2.aruco.DICT_5X5_50)\n",
        "aruco_params = cv2.aruco.DetectorParameters_create()\n",
        "\n",
        "# Detect ArUco markers\n",
        "corners, ids, rejected = cv2.aruco.detectMarkers(image, aruco_dict, parameters=aruco_params)\n",
        "\n",
        "# Validate if ArUco markers were detected\n",
        "if ids is not None:\n",
        "    print(f\"Detected ArUco markers: {ids.flatten()}\")\n",
        "\n",
        "    # Draw detected markers on the image\n",
        "    image_with_markers = cv2.aruco.drawDetectedMarkers(image.copy(), corners, ids)\n",
        "\n",
        "    # Display the result using matplotlib\n",
        "    plt.imshow(cv2.cvtColor(image_with_markers, cv2.COLOR_BGR2RGB))\n",
        "    plt.axis('off')  # Hide axes\n",
        "    plt.title('Detected ArUco Markers')\n",
        "    plt.show()\n",
        "else:\n",
        "    print(\"No ArUco markers detected.\")\n"
      ],
      "metadata": {
        "colab": {
          "base_uri": "https://localhost:8080/"
        },
        "id": "NsuhoXoe_Bb_",
        "outputId": "249ab6eb-4315-4c4b-8b76-43dfb4897157"
      },
      "execution_count": null,
      "outputs": [
        {
          "output_type": "stream",
          "name": "stdout",
          "text": [
            "No ArUco markers detected.\n"
          ]
        }
      ]
    },
    {
      "cell_type": "code",
      "source": [
        "import cv2\n",
        "import numpy as np\n",
        "import pandas as pd\n",
        "from skimage import measure\n",
        "\n",
        "# Load the image\n",
        "image_path = 'aruco_marker.png'  # Replace with your actual image path\n",
        "image = cv2.imread(image_path)\n",
        "if image is None:\n",
        "    print(\"Could not open or find the image.\")\n",
        "    exit()\n",
        "\n",
        "# Load ArUco dictionary\n",
        "aruco_dict = cv2.aruco.getPredefinedDictionary(cv2.aruco.DICT_4X4_50)\n",
        "aruco_params = cv2.aruco.DetectorParameters_create()\n",
        "\n",
        "# Detect ArUco markers\n",
        "corners, ids, rejected = cv2.aruco.detectMarkers(image, aruco_dict, parameters=aruco_params)\n",
        "\n",
        "# Validate if ArUco markers were detected\n",
        "if ids is not None and len(ids) >= 4:\n",
        "    print(f\"Detected ArUco markers: {ids.flatten()}\")\n",
        "\n",
        "    # Sort the detected corners\n",
        "    aruco_pts = np.array([corner[0] for corner in corners], dtype=\"float32\")\n",
        "\n",
        "    # Sort ArUco points to form the rectangle for perspective transform\n",
        "    s = aruco_pts.sum(axis=1)\n",
        "    rect = np.zeros((4, 2), dtype=\"float32\")\n",
        "    rect[0] = aruco_pts[np.argmin(s)]\n",
        "    rect[2] = aruco_pts[np.argmax(s)]\n",
        "    diff = np.diff(aruco_pts, axis=1)\n",
        "    rect[1] = aruco_pts[np.argmin(diff)]\n",
        "    rect[3] = aruco_pts[np.argmax(diff)]\n",
        "\n",
        "    # Destination points for the perspective transform\n",
        "    dst = np.array([[0, 0], [500, 0], [500, 500], [0, 500]], dtype=\"float32\")\n",
        "\n",
        "    # Compute the perspective transform matrix and apply it\n",
        "    M = cv2.getPerspectiveTransform(rect, dst)\n",
        "    transformed = cv2.warpPerspective(image, M, (500, 500))\n",
        "\n",
        "    # Convert transformed image to grayscale and apply a blur\n",
        "    gray = cv2.cvtColor(transformed, cv2.COLOR_BGR2GRAY)\n",
        "    blurred = cv2.GaussianBlur(gray, (5, 5), 0)\n",
        "\n",
        "    # Threshold the image to find obstacles\n",
        "    _, thresh = cv2.threshold(blurred, 100, 255, cv2.THRESH_BINARY_INV)\n",
        "\n",
        "    # Label connected components (obstacles)\n",
        "    labels = measure.label(thresh, connectivity=2, background=0)\n",
        "    props = measure.regionprops(labels)\n",
        "\n",
        "    # Prepare data for CSV\n",
        "    obstacle_data = []\n",
        "    for prop in props:\n",
        "        min_row, min_col, max_row, max_col = prop.bbox\n",
        "        area = prop.area\n",
        "        centroid = prop.centroid\n",
        "        obstacle_data.append({\n",
        "            \"Area\": area,\n",
        "            \"Centroid\": centroid,\n",
        "            \"Bounding Box\": (min_col, min_row, max_col, max_row)\n",
        "        })\n",
        "        # Draw bounding boxes on the transformed image\n",
        "        cv2.rectangle(transformed, (min_col, min_row), (max_col, max_row), (0, 255, 0), 2)\n",
        "\n",
        "    # Convert to DataFrame and save to CSV\n",
        "    df = pd.DataFrame(obstacle_data)\n",
        "    df.to_csv('obstacle_details.csv', index=False)\n",
        "\n",
        "    # Display the transformed image with bounding boxes\n",
        "    cv2.imshow(\"Transformed Image with Obstacles\", transformed)\n",
        "    cv2.waitKey(0)\n",
        "    cv2.destroyAllWindows()\n",
        "\n",
        "    print(\"Obstacle details saved to 'obstacle_details.csv'.\")\n",
        "else:\n",
        "    print(\"Error: Could not detect enough ArUco markers.\")\n"
      ],
      "metadata": {
        "colab": {
          "base_uri": "https://localhost:8080/"
        },
        "id": "65vNEZJK_b8W",
        "outputId": "f01f131e-59b8-468f-aa15-10c3334cea6a"
      },
      "execution_count": null,
      "outputs": [
        {
          "output_type": "stream",
          "name": "stdout",
          "text": [
            "Error: Could not detect enough ArUco markers.\n"
          ]
        }
      ]
    },
    {
      "cell_type": "code",
      "source": [
        "import cv2\n",
        "import numpy as np\n",
        "import pandas as pd\n",
        "from skimage import measure\n",
        "\n",
        "# Load the image\n",
        "image_path = 'prj2.jpg'  # Replace with your actual image path\n",
        "image = cv2.imread(image_path)\n",
        "if image is None:\n",
        "    print(\"Could not open or find the image.\")\n",
        "    exit()\n",
        "\n",
        "# Load ArUco dictionary\n",
        "aruco_dict = cv2.aruco.getPredefinedDictionary(cv2.aruco.DICT_4X4_50)\n",
        "aruco_params = cv2.aruco.DetectorParameters_create()\n",
        "\n",
        "# Detect ArUco markers\n",
        "corners, ids, rejected = cv2.aruco.detectMarkers(image, aruco_dict, parameters=aruco_params)\n",
        "\n",
        "# Check if markers are detected\n",
        "if ids is not None:\n",
        "    print(f\"Detected ArUco markers: {ids.flatten()}\")\n",
        "\n",
        "    # Draw detected markers on the original image for visualization\n",
        "    cv2.aruco.drawDetectedMarkers(image, corners, ids)\n",
        "    cv2.imshow(\"Detected Markers\", image)\n",
        "    cv2.waitKey(0)\n",
        "\n",
        "    # Sort the detected corners\n",
        "    aruco_pts = np.array([corner[0] for corner in corners], dtype=\"float32\")\n",
        "\n",
        "    # Check if we have at least 4 markers for perspective transformation\n",
        "    if len(ids) >= 4:\n",
        "        # Sort ArUco points to form the rectangle for perspective transform\n",
        "        s = aruco_pts.sum(axis=1)\n",
        "        rect = np.zeros((4, 2), dtype=\"float32\")\n",
        "        rect[0] = aruco_pts[np.argmin(s)]\n",
        "        rect[2] = aruco_pts[np.argmax(s)]\n",
        "        diff = np.diff(aruco_pts, axis=1)\n",
        "        rect[1] = aruco_pts[np.argmin(diff)]\n",
        "        rect[3] = aruco_pts[np.argmax(diff)]\n",
        "\n",
        "        # Destination points for the perspective transform\n",
        "        dst = np.array([[0, 0], [500, 0], [500, 500], [0, 500]], dtype=\"float32\")\n",
        "\n",
        "        # Compute the perspective transform matrix and apply it\n",
        "        M = cv2.getPerspectiveTransform(rect, dst)\n",
        "        transformed = cv2.warpPerspective(image, M, (500, 500))\n",
        "\n",
        "        # Convert transformed image to grayscale and apply a blur\n",
        "        gray = cv2.cvtColor(transformed, cv2.COLOR_BGR2GRAY)\n",
        "        blurred = cv2.GaussianBlur(gray, (5, 5), 0)\n",
        "\n",
        "        # Threshold the image to find obstacles\n",
        "        _, thresh = cv2.threshold(blurred, 100, 255, cv2.THRESH_BINARY_INV)\n",
        "\n",
        "        # Label connected components (obstacles)\n",
        "        labels = measure.label(thresh, connectivity=2, background=0)\n",
        "        props = measure.regionprops(labels)\n",
        "\n",
        "        # Prepare data for CSV\n",
        "        obstacle_data = []\n",
        "        for prop in props:\n",
        "            min_row, min_col, max_row, max_col = prop.bbox\n",
        "            area = prop.area\n",
        "            centroid = prop.centroid\n",
        "            obstacle_data.append({\n",
        "                \"Area\": area,\n",
        "                \"Centroid\": centroid,\n",
        "                \"Bounding Box\": (min_col, min_row, max_col, max_row)\n",
        "            })\n",
        "            # Draw bounding boxes on the transformed image\n",
        "            cv2.rectangle(transformed, (min_col, min_row), (max_col, max_row), (0, 255, 0), 2)\n",
        "\n",
        "        # Convert to DataFrame and save to CSV\n",
        "        df = pd.DataFrame(obstacle_data)\n",
        "        df.to_csv('obstacle_details.csv', index=False)\n",
        "\n",
        "        # Display the transformed image with bounding boxes\n",
        "        cv2.imshow(\"Transformed Image with Obstacles\", transformed)\n",
        "        cv2.waitKey(0)\n",
        "        cv2.destroyAllWindows()\n",
        "\n",
        "        print(\"Obstacle details saved to 'obstacle_details.csv'.\")\n",
        "    else:\n",
        "        print(\"Error: Not enough ArUco markers detected for transformation.\")\n",
        "else:\n",
        "    print(\"Error: No ArUco markers detected.\")\n"
      ],
      "metadata": {
        "id": "MpViGuv8ASwv",
        "outputId": "1749adcf-e507-437b-a531-de21e91e8630",
        "colab": {
          "base_uri": "https://localhost:8080/"
        }
      },
      "execution_count": null,
      "outputs": [
        {
          "output_type": "stream",
          "name": "stdout",
          "text": [
            "Error: No ArUco markers detected.\n"
          ]
        }
      ]
    }
  ]
}